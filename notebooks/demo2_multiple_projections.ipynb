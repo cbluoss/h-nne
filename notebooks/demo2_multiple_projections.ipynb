{
 "cells": [
  {
   "cell_type": "markdown",
   "id": "6af62d72",
   "metadata": {},
   "source": [
    "# Multiple projections\n",
    "Below we project the CIFAR-10 dataset multiple times to different dimensions.\\\n",
    "This is a great use-case to demonstrate the speed of h-NNE, as most of the time is consumed in building a hierarchy while the actual projection is really fast."
   ]
  },
  {
   "cell_type": "code",
   "execution_count": 1,
   "id": "1b7ed571",
   "metadata": {},
   "outputs": [],
   "source": [
    "import matplotlib.pyplot as plt\n",
    "from torchvision.datasets import CIFAR10\n",
    "\n",
    "from hnne import HNNE"
   ]
  },
  {
   "cell_type": "markdown",
   "id": "1e8a7884",
   "metadata": {},
   "source": [
    "## Load the CIFAR-10 train dataset\n",
    "50000 examples of 32x32 RGB images"
   ]
  },
  {
   "cell_type": "code",
   "execution_count": 2,
   "id": "72d68f1e",
   "metadata": {},
   "outputs": [
    {
     "name": "stdout",
     "output_type": "stream",
     "text": [
      "Files already downloaded and verified\n"
     ]
    }
   ],
   "source": [
    "# Use this line to select the test set: cifar10 = CIFAR10(root='.', download=True, train=False)\n",
    "cifar10 = CIFAR10(root='.', download=True, train=True)"
   ]
  },
  {
   "cell_type": "code",
   "execution_count": 3,
   "id": "5dc1a866",
   "metadata": {},
   "outputs": [
    {
     "data": {
      "text/plain": [
       "(50000, 3072)"
      ]
     },
     "execution_count": 3,
     "metadata": {},
     "output_type": "execute_result"
    }
   ],
   "source": [
    "cifar10_data = cifar10.data.reshape((len(cifar10.data), -1))\n",
    "cifar10_data.shape"
   ]
  },
  {
   "cell_type": "markdown",
   "id": "16ceac35",
   "metadata": {},
   "source": [
    "## Project to 2, 4, 8, 16, 32 and 62 dimensions"
   ]
  },
  {
   "cell_type": "code",
   "execution_count": 4,
   "id": "1ea3bf34",
   "metadata": {},
   "outputs": [
    {
     "name": "stdout",
     "output_type": "stream",
     "text": [
      "CPU times: user 1min 36s, sys: 3.54 s, total: 1min 39s\n",
      "Wall time: 55.3 s\n"
     ]
    }
   ],
   "source": [
    "%%time\n",
    "hnne = HNNE()\n",
    "_ = hnne.fit_only_hierarchy(cifar10_data)"
   ]
  },
  {
   "cell_type": "code",
   "execution_count": 6,
   "id": "4f0b720e",
   "metadata": {},
   "outputs": [
    {
     "name": "stdout",
     "output_type": "stream",
     "text": [
      "Projecting to 2 dimensions...\n",
      "Projecting to 4 dimensions...\n",
      "Projecting to 8 dimensions...\n",
      "Projecting to 16 dimensions...\n",
      "Projecting to 32 dimensions...\n",
      "CPU times: user 3min 39s, sys: 37.4 s, total: 4min 16s\n",
      "Wall time: 1min 30s\n"
     ]
    }
   ],
   "source": [
    "%%time\n",
    "projections = []\n",
    "for dim in [2, 4, 8, 16, 32]:\n",
    "    print(f'Projecting to {dim} dimensions...')\n",
    "    projection = hnne.fit_transform(cifar10_data, dim=dim)\n",
    "    projections.append(projection)"
   ]
  },
  {
   "cell_type": "code",
   "execution_count": 7,
   "id": "511b24ff",
   "metadata": {},
   "outputs": [
    {
     "name": "stdout",
     "output_type": "stream",
     "text": [
      "(50000, 2)\n",
      "(50000, 4)\n",
      "(50000, 8)\n",
      "(50000, 16)\n",
      "(50000, 32)\n"
     ]
    }
   ],
   "source": [
    "for projection in projections:\n",
    "    print(projection.shape)"
   ]
  }
 ],
 "metadata": {
  "kernelspec": {
   "display_name": "Python 3",
   "language": "python",
   "name": "python3"
  },
  "language_info": {
   "codemirror_mode": {
    "name": "ipython",
    "version": 3
   },
   "file_extension": ".py",
   "mimetype": "text/x-python",
   "name": "python",
   "nbconvert_exporter": "python",
   "pygments_lexer": "ipython3",
   "version": "3.7.10"
  }
 },
 "nbformat": 4,
 "nbformat_minor": 5
}
